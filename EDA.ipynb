{
 "cells": [
  {
   "cell_type": "code",
   "execution_count": 35,
   "id": "c4ec7837-8f7c-47d8-90e3-2e7961444658",
   "metadata": {},
   "outputs": [],
   "source": [
    "import pandas as pd\n",
    "import matplotlib.pyplot as plt"
   ]
  },
  {
   "cell_type": "code",
   "execution_count": 2,
   "id": "64b8f042-2bd7-4369-8cf3-2a6479b19061",
   "metadata": {},
   "outputs": [
    {
     "data": {
      "text/plain": [
       "'/Users/robertkaiser/CodingProjects/Kaggle/Apr21Comp'"
      ]
     },
     "execution_count": 2,
     "metadata": {},
     "output_type": "execute_result"
    }
   ],
   "source": [
    "pwd"
   ]
  },
  {
   "cell_type": "code",
   "execution_count": 37,
   "id": "a91ef837-87ca-4866-9005-007ef517f8ef",
   "metadata": {},
   "outputs": [
    {
     "data": {
      "text/html": [
       "<div>\n",
       "<style scoped>\n",
       "    .dataframe tbody tr th:only-of-type {\n",
       "        vertical-align: middle;\n",
       "    }\n",
       "\n",
       "    .dataframe tbody tr th {\n",
       "        vertical-align: top;\n",
       "    }\n",
       "\n",
       "    .dataframe thead th {\n",
       "        text-align: right;\n",
       "    }\n",
       "</style>\n",
       "<table border=\"1\" class=\"dataframe\">\n",
       "  <thead>\n",
       "    <tr style=\"text-align: right;\">\n",
       "      <th></th>\n",
       "      <th>Pclass</th>\n",
       "      <th>Name</th>\n",
       "      <th>Sex</th>\n",
       "      <th>Age</th>\n",
       "      <th>SibSp</th>\n",
       "      <th>Parch</th>\n",
       "      <th>Ticket</th>\n",
       "      <th>Fare</th>\n",
       "      <th>Cabin</th>\n",
       "      <th>Embarked</th>\n",
       "    </tr>\n",
       "    <tr>\n",
       "      <th>PassengerId</th>\n",
       "      <th></th>\n",
       "      <th></th>\n",
       "      <th></th>\n",
       "      <th></th>\n",
       "      <th></th>\n",
       "      <th></th>\n",
       "      <th></th>\n",
       "      <th></th>\n",
       "      <th></th>\n",
       "      <th></th>\n",
       "    </tr>\n",
       "  </thead>\n",
       "  <tbody>\n",
       "    <tr>\n",
       "      <th>100000</th>\n",
       "      <td>3</td>\n",
       "      <td>Holliday, Daniel</td>\n",
       "      <td>male</td>\n",
       "      <td>19.0</td>\n",
       "      <td>0</td>\n",
       "      <td>0</td>\n",
       "      <td>24745</td>\n",
       "      <td>63.01</td>\n",
       "      <td>NaN</td>\n",
       "      <td>S</td>\n",
       "    </tr>\n",
       "    <tr>\n",
       "      <th>100001</th>\n",
       "      <td>3</td>\n",
       "      <td>Nguyen, Lorraine</td>\n",
       "      <td>female</td>\n",
       "      <td>53.0</td>\n",
       "      <td>0</td>\n",
       "      <td>0</td>\n",
       "      <td>13264</td>\n",
       "      <td>5.81</td>\n",
       "      <td>NaN</td>\n",
       "      <td>S</td>\n",
       "    </tr>\n",
       "    <tr>\n",
       "      <th>100002</th>\n",
       "      <td>1</td>\n",
       "      <td>Harris, Heather</td>\n",
       "      <td>female</td>\n",
       "      <td>19.0</td>\n",
       "      <td>0</td>\n",
       "      <td>0</td>\n",
       "      <td>25990</td>\n",
       "      <td>38.91</td>\n",
       "      <td>B15315</td>\n",
       "      <td>C</td>\n",
       "    </tr>\n",
       "    <tr>\n",
       "      <th>100003</th>\n",
       "      <td>2</td>\n",
       "      <td>Larsen, Eric</td>\n",
       "      <td>male</td>\n",
       "      <td>25.0</td>\n",
       "      <td>0</td>\n",
       "      <td>0</td>\n",
       "      <td>314011</td>\n",
       "      <td>12.93</td>\n",
       "      <td>NaN</td>\n",
       "      <td>S</td>\n",
       "    </tr>\n",
       "    <tr>\n",
       "      <th>100004</th>\n",
       "      <td>1</td>\n",
       "      <td>Cleary, Sarah</td>\n",
       "      <td>female</td>\n",
       "      <td>17.0</td>\n",
       "      <td>0</td>\n",
       "      <td>2</td>\n",
       "      <td>26203</td>\n",
       "      <td>26.89</td>\n",
       "      <td>B22515</td>\n",
       "      <td>C</td>\n",
       "    </tr>\n",
       "  </tbody>\n",
       "</table>\n",
       "</div>"
      ],
      "text/plain": [
       "             Pclass              Name     Sex   Age  SibSp  Parch  Ticket  \\\n",
       "PassengerId                                                                 \n",
       "100000            3  Holliday, Daniel    male  19.0      0      0   24745   \n",
       "100001            3  Nguyen, Lorraine  female  53.0      0      0   13264   \n",
       "100002            1   Harris, Heather  female  19.0      0      0   25990   \n",
       "100003            2      Larsen, Eric    male  25.0      0      0  314011   \n",
       "100004            1     Cleary, Sarah  female  17.0      0      2   26203   \n",
       "\n",
       "              Fare   Cabin Embarked  \n",
       "PassengerId                          \n",
       "100000       63.01     NaN        S  \n",
       "100001        5.81     NaN        S  \n",
       "100002       38.91  B15315        C  \n",
       "100003       12.93     NaN        S  \n",
       "100004       26.89  B22515        C  "
      ]
     },
     "execution_count": 37,
     "metadata": {},
     "output_type": "execute_result"
    }
   ],
   "source": [
    "test = pd.read_csv('Data/test.csv')\n",
    "test.set_index('PassengerId', inplace = True)\n",
    "test.head()"
   ]
  },
  {
   "cell_type": "code",
   "execution_count": 38,
   "id": "cdce912a-4914-40bb-9280-7ce48d5e3894",
   "metadata": {},
   "outputs": [
    {
     "data": {
      "text/html": [
       "<div>\n",
       "<style scoped>\n",
       "    .dataframe tbody tr th:only-of-type {\n",
       "        vertical-align: middle;\n",
       "    }\n",
       "\n",
       "    .dataframe tbody tr th {\n",
       "        vertical-align: top;\n",
       "    }\n",
       "\n",
       "    .dataframe thead th {\n",
       "        text-align: right;\n",
       "    }\n",
       "</style>\n",
       "<table border=\"1\" class=\"dataframe\">\n",
       "  <thead>\n",
       "    <tr style=\"text-align: right;\">\n",
       "      <th></th>\n",
       "      <th>Survived</th>\n",
       "      <th>Pclass</th>\n",
       "      <th>Name</th>\n",
       "      <th>Sex</th>\n",
       "      <th>Age</th>\n",
       "      <th>SibSp</th>\n",
       "      <th>Parch</th>\n",
       "      <th>Ticket</th>\n",
       "      <th>Fare</th>\n",
       "      <th>Cabin</th>\n",
       "      <th>Embarked</th>\n",
       "    </tr>\n",
       "    <tr>\n",
       "      <th>PassengerId</th>\n",
       "      <th></th>\n",
       "      <th></th>\n",
       "      <th></th>\n",
       "      <th></th>\n",
       "      <th></th>\n",
       "      <th></th>\n",
       "      <th></th>\n",
       "      <th></th>\n",
       "      <th></th>\n",
       "      <th></th>\n",
       "      <th></th>\n",
       "    </tr>\n",
       "  </thead>\n",
       "  <tbody>\n",
       "    <tr>\n",
       "      <th>0</th>\n",
       "      <td>1</td>\n",
       "      <td>1</td>\n",
       "      <td>Oconnor, Frankie</td>\n",
       "      <td>male</td>\n",
       "      <td>NaN</td>\n",
       "      <td>2</td>\n",
       "      <td>0</td>\n",
       "      <td>209245</td>\n",
       "      <td>27.14</td>\n",
       "      <td>C12239</td>\n",
       "      <td>S</td>\n",
       "    </tr>\n",
       "    <tr>\n",
       "      <th>1</th>\n",
       "      <td>0</td>\n",
       "      <td>3</td>\n",
       "      <td>Bryan, Drew</td>\n",
       "      <td>male</td>\n",
       "      <td>NaN</td>\n",
       "      <td>0</td>\n",
       "      <td>0</td>\n",
       "      <td>27323</td>\n",
       "      <td>13.35</td>\n",
       "      <td>NaN</td>\n",
       "      <td>S</td>\n",
       "    </tr>\n",
       "    <tr>\n",
       "      <th>2</th>\n",
       "      <td>0</td>\n",
       "      <td>3</td>\n",
       "      <td>Owens, Kenneth</td>\n",
       "      <td>male</td>\n",
       "      <td>0.33</td>\n",
       "      <td>1</td>\n",
       "      <td>2</td>\n",
       "      <td>CA 457703</td>\n",
       "      <td>71.29</td>\n",
       "      <td>NaN</td>\n",
       "      <td>S</td>\n",
       "    </tr>\n",
       "    <tr>\n",
       "      <th>3</th>\n",
       "      <td>0</td>\n",
       "      <td>3</td>\n",
       "      <td>Kramer, James</td>\n",
       "      <td>male</td>\n",
       "      <td>19.00</td>\n",
       "      <td>0</td>\n",
       "      <td>0</td>\n",
       "      <td>A. 10866</td>\n",
       "      <td>13.04</td>\n",
       "      <td>NaN</td>\n",
       "      <td>S</td>\n",
       "    </tr>\n",
       "    <tr>\n",
       "      <th>4</th>\n",
       "      <td>1</td>\n",
       "      <td>3</td>\n",
       "      <td>Bond, Michael</td>\n",
       "      <td>male</td>\n",
       "      <td>25.00</td>\n",
       "      <td>0</td>\n",
       "      <td>0</td>\n",
       "      <td>427635</td>\n",
       "      <td>7.76</td>\n",
       "      <td>NaN</td>\n",
       "      <td>S</td>\n",
       "    </tr>\n",
       "  </tbody>\n",
       "</table>\n",
       "</div>"
      ],
      "text/plain": [
       "             Survived  Pclass              Name   Sex    Age  SibSp  Parch  \\\n",
       "PassengerId                                                                  \n",
       "0                   1       1  Oconnor, Frankie  male    NaN      2      0   \n",
       "1                   0       3       Bryan, Drew  male    NaN      0      0   \n",
       "2                   0       3    Owens, Kenneth  male   0.33      1      2   \n",
       "3                   0       3     Kramer, James  male  19.00      0      0   \n",
       "4                   1       3     Bond, Michael  male  25.00      0      0   \n",
       "\n",
       "                Ticket   Fare   Cabin Embarked  \n",
       "PassengerId                                     \n",
       "0               209245  27.14  C12239        S  \n",
       "1                27323  13.35     NaN        S  \n",
       "2            CA 457703  71.29     NaN        S  \n",
       "3             A. 10866  13.04     NaN        S  \n",
       "4               427635   7.76     NaN        S  "
      ]
     },
     "execution_count": 38,
     "metadata": {},
     "output_type": "execute_result"
    }
   ],
   "source": [
    "train = pd.read_csv('Data/train.csv')\n",
    "train.set_index('PassengerId', inplace = True)\n",
    "train.head()"
   ]
  },
  {
   "cell_type": "markdown",
   "id": "24e8a42c-d065-47be-8021-255c104b11c8",
   "metadata": {},
   "source": [
    "## Explore Train Data\n",
    "\n",
    "Aim is to look into the train data-set to find out trends and distributions"
   ]
  },
  {
   "cell_type": "markdown",
   "id": "d8242f61-02c2-40fc-89b0-1b8b6a9cd756",
   "metadata": {},
   "source": [
    "### Survival Rate"
   ]
  },
  {
   "cell_type": "code",
   "execution_count": 8,
   "id": "99d853f4-9d8e-4957-a21a-4b20977815dd",
   "metadata": {},
   "outputs": [
    {
     "data": {
      "text/plain": [
       "0    57226\n",
       "1    42774\n",
       "Name: Survived, dtype: int64"
      ]
     },
     "execution_count": 8,
     "metadata": {},
     "output_type": "execute_result"
    }
   ],
   "source": [
    "#Look at survivial rate\n",
    "train['Survived'].value_counts()"
   ]
  },
  {
   "cell_type": "code",
   "execution_count": 9,
   "id": "6607e2e7-d782-453f-a78b-d8935fd727bf",
   "metadata": {},
   "outputs": [
    {
     "data": {
      "text/plain": [
       "0.42774"
      ]
     },
     "execution_count": 9,
     "metadata": {},
     "output_type": "execute_result"
    }
   ],
   "source": [
    "sum(train['Survived'])/len(train['Survived'])\n",
    "#survival rate is 42%"
   ]
  },
  {
   "cell_type": "code",
   "execution_count": 21,
   "id": "22365ebc-93c1-4beb-a291-f6e75afa9733",
   "metadata": {},
   "outputs": [
    {
     "data": {
      "text/plain": [
       "Pclass\n",
       "1    0.579779\n",
       "2    0.525018\n",
       "3    0.247305\n",
       "dtype: float64"
      ]
     },
     "execution_count": 21,
     "metadata": {},
     "output_type": "execute_result"
    }
   ],
   "source": [
    "#Suvival by class\n",
    "train.groupby('Pclass').apply(lambda x: sum(x['Survived'])/len(x))"
   ]
  },
  {
   "cell_type": "code",
   "execution_count": 22,
   "id": "c56da863-9f53-43eb-b769-e8eefb00e9f8",
   "metadata": {},
   "outputs": [
    {
     "data": {
      "text/plain": [
       "Embarked\n",
       "C    0.751296\n",
       "Q    0.596976\n",
       "S    0.315294\n",
       "dtype: float64"
      ]
     },
     "execution_count": 22,
     "metadata": {},
     "output_type": "execute_result"
    }
   ],
   "source": [
    "#Suvival by embarkment point\n",
    "train.groupby('Embarked').apply(lambda x: sum(x['Survived'])/len(x))\n",
    "\n",
    "#High rate in Southampton"
   ]
  },
  {
   "cell_type": "code",
   "execution_count": 27,
   "id": "03f9a34c-21f1-4566-bb92-f086337c38a2",
   "metadata": {},
   "outputs": [
    {
     "data": {
      "text/plain": [
       "Embarked  Pclass\n",
       "C         1         11843\n",
       "          2          6156\n",
       "          3          4188\n",
       "Q         1          3751\n",
       "          2           844\n",
       "          3           829\n",
       "S         1         14635\n",
       "          2         21609\n",
       "          3         35895\n",
       "dtype: int64"
      ]
     },
     "execution_count": 27,
     "metadata": {},
     "output_type": "execute_result"
    }
   ],
   "source": [
    "train.groupby(['Embarked','Pclass']).apply(lambda x: len(x))\n",
    "\n",
    "#High southampton rate potentially caused by prevelance of third class pasengers"
   ]
  },
  {
   "cell_type": "code",
   "execution_count": 30,
   "id": "43879285-9e71-4d9c-ad27-e597088c78f9",
   "metadata": {},
   "outputs": [
    {
     "data": {
      "text/plain": [
       "male      56114\n",
       "female    43886\n",
       "Name: Sex, dtype: int64"
      ]
     },
     "execution_count": 30,
     "metadata": {},
     "output_type": "execute_result"
    }
   ],
   "source": [
    "train['Sex'].value_counts()"
   ]
  },
  {
   "cell_type": "code",
   "execution_count": 29,
   "id": "c49ec825-ef59-47fd-8572-55ddb76ded47",
   "metadata": {},
   "outputs": [
    {
     "data": {
      "text/plain": [
       "Sex\n",
       "female    0.711525\n",
       "male      0.205795\n",
       "dtype: float64"
      ]
     },
     "execution_count": 29,
     "metadata": {},
     "output_type": "execute_result"
    }
   ],
   "source": [
    "train.groupby('Sex').apply(lambda x: sum(x['Survived'])/len(x))"
   ]
  },
  {
   "cell_type": "code",
   "execution_count": 33,
   "id": "354b153c-b704-495f-bc54-339307e1f1db",
   "metadata": {},
   "outputs": [
    {
     "data": {
      "text/plain": [
       "Pclass  Sex   \n",
       "1       female    16084\n",
       "        male      14231\n",
       "2       female    15283\n",
       "        male      13396\n",
       "3       female    12519\n",
       "        male      28487\n",
       "dtype: int64"
      ]
     },
     "execution_count": 33,
     "metadata": {},
     "output_type": "execute_result"
    }
   ],
   "source": [
    "train.groupby(['Pclass','Sex']).apply(lambda x: len(x))"
   ]
  },
  {
   "cell_type": "code",
   "execution_count": 34,
   "id": "d5275120-b05f-46c6-9228-dbe0d5332ae6",
   "metadata": {},
   "outputs": [
    {
     "data": {
      "text/plain": [
       "SibSp\n",
       "0    0.426843\n",
       "1    0.433748\n",
       "2    0.453956\n",
       "3    0.400000\n",
       "4    0.375856\n",
       "5    0.189394\n",
       "8    0.385135\n",
       "dtype: float64"
      ]
     },
     "execution_count": 34,
     "metadata": {},
     "output_type": "execute_result"
    }
   ],
   "source": [
    "train.groupby('SibSp').apply(lambda x: sum(x['Survived'])/len(x))\n"
   ]
  },
  {
   "cell_type": "markdown",
   "id": "285b6224-ff4b-4d7c-a63e-ec7ff1b53ff3",
   "metadata": {},
   "source": [
    "## Correlation Plot"
   ]
  },
  {
   "cell_type": "code",
   "execution_count": 49,
   "id": "9fff36ab-45af-404d-92d5-db46d73e1171",
   "metadata": {},
   "outputs": [],
   "source": [
    "#Built quick cabin flag to indicate whether they had a cabin or not, may expand to build a \"no cabin\", \"C Floor\", \"B Floor\"... feature\n",
    "train['CabinFlag'] = train['Cabin'].isna().astype('int')"
   ]
  },
  {
   "cell_type": "code",
   "execution_count": 39,
   "id": "924a95a7-347e-40cf-bbf8-64dd76b44399",
   "metadata": {},
   "outputs": [
    {
     "data": {
      "image/png": "[encoded data removed]",
      "text/plain": [
       "<Figure size 288x288 with 1 Axes>"
      ]
     },
     "metadata": {
      "needs_background": "light"
     },
     "output_type": "display_data"
    }
   ],
   "source": [
    "plt.matshow(train.corr())\n",
    "plt.show()"
   ]
  },
  {
   "cell_type": "code",
   "execution_count": 48,
   "id": "e536097c-eb48-4833-948b-4bf291838009",
   "metadata": {},
   "outputs": [
    {
     "data": {
      "text/html": [
       "<style  type=\"text/css\" >\n",
       "#T_3c620_row0_col0,#T_3c620_row1_col1,#T_3c620_row2_col2,#T_3c620_row3_col3,#T_3c620_row4_col4,#T_3c620_row5_col5,#T_3c620_row6_col6{\n",
       "            background-color:  #b40426;\n",
       "            color:  #f1f1f1;\n",
       "        }#T_3c620_row0_col1{\n",
       "            background-color:  #5673e0;\n",
       "            color:  #000000;\n",
       "        }#T_3c620_row0_col2{\n",
       "            background-color:  #9abbff;\n",
       "            color:  #000000;\n",
       "        }#T_3c620_row0_col3{\n",
       "            background-color:  #5875e1;\n",
       "            color:  #000000;\n",
       "        }#T_3c620_row0_col4{\n",
       "            background-color:  #6384eb;\n",
       "            color:  #000000;\n",
       "        }#T_3c620_row0_col5{\n",
       "            background-color:  #cdd9ec;\n",
       "            color:  #000000;\n",
       "        }#T_3c620_row0_col6{\n",
       "            background-color:  #688aef;\n",
       "            color:  #000000;\n",
       "        }#T_3c620_row1_col0,#T_3c620_row1_col2,#T_3c620_row2_col3,#T_3c620_row2_col4,#T_3c620_row5_col1,#T_3c620_row5_col6,#T_3c620_row6_col5{\n",
       "            background-color:  #3b4cc0;\n",
       "            color:  #f1f1f1;\n",
       "        }#T_3c620_row1_col3{\n",
       "            background-color:  #4b64d5;\n",
       "            color:  #f1f1f1;\n",
       "        }#T_3c620_row1_col4{\n",
       "            background-color:  #516ddb;\n",
       "            color:  #000000;\n",
       "        }#T_3c620_row1_col5{\n",
       "            background-color:  #445acc;\n",
       "            color:  #f1f1f1;\n",
       "        }#T_3c620_row1_col6{\n",
       "            background-color:  #ed8366;\n",
       "            color:  #000000;\n",
       "        }#T_3c620_row2_col0{\n",
       "            background-color:  #a1c0ff;\n",
       "            color:  #000000;\n",
       "        }#T_3c620_row2_col1{\n",
       "            background-color:  #5d7ce6;\n",
       "            color:  #000000;\n",
       "        }#T_3c620_row2_col5{\n",
       "            background-color:  #bed2f6;\n",
       "            color:  #000000;\n",
       "        }#T_3c620_row2_col6{\n",
       "            background-color:  #6c8ff1;\n",
       "            color:  #000000;\n",
       "        }#T_3c620_row3_col0{\n",
       "            background-color:  #82a6fb;\n",
       "            color:  #000000;\n",
       "        }#T_3c620_row3_col1{\n",
       "            background-color:  #90b2fe;\n",
       "            color:  #000000;\n",
       "        }#T_3c620_row3_col2{\n",
       "            background-color:  #5e7de7;\n",
       "            color:  #000000;\n",
       "        }#T_3c620_row3_col4{\n",
       "            background-color:  #9fbfff;\n",
       "            color:  #000000;\n",
       "        }#T_3c620_row3_col5,#T_3c620_row4_col5{\n",
       "            background-color:  #b2ccfb;\n",
       "            color:  #000000;\n",
       "        }#T_3c620_row3_col6{\n",
       "            background-color:  #94b6ff;\n",
       "            color:  #000000;\n",
       "        }#T_3c620_row4_col0{\n",
       "            background-color:  #8badfd;\n",
       "            color:  #000000;\n",
       "        }#T_3c620_row4_col1,#T_3c620_row4_col6{\n",
       "            background-color:  #92b4fe;\n",
       "            color:  #000000;\n",
       "        }#T_3c620_row4_col2{\n",
       "            background-color:  #5b7ae5;\n",
       "            color:  #000000;\n",
       "        }#T_3c620_row4_col3,#T_3c620_row5_col2{\n",
       "            background-color:  #9bbcff;\n",
       "            color:  #000000;\n",
       "        }#T_3c620_row5_col0{\n",
       "            background-color:  #b6cefa;\n",
       "            color:  #000000;\n",
       "        }#T_3c620_row5_col3{\n",
       "            background-color:  #6b8df0;\n",
       "            color:  #000000;\n",
       "        }#T_3c620_row5_col4{\n",
       "            background-color:  #6f92f3;\n",
       "            color:  #000000;\n",
       "        }#T_3c620_row6_col0{\n",
       "            background-color:  #4358cb;\n",
       "            color:  #f1f1f1;\n",
       "        }#T_3c620_row6_col1{\n",
       "            background-color:  #ee8669;\n",
       "            color:  #000000;\n",
       "        }#T_3c620_row6_col2{\n",
       "            background-color:  #4055c8;\n",
       "            color:  #f1f1f1;\n",
       "        }#T_3c620_row6_col3{\n",
       "            background-color:  #465ecf;\n",
       "            color:  #f1f1f1;\n",
       "        }#T_3c620_row6_col4{\n",
       "            background-color:  #485fd1;\n",
       "            color:  #f1f1f1;\n",
       "        }</style><table id=\"T_3c620_\" ><thead>    <tr>        <th class=\"blank level0\" ></th>        <th class=\"col_heading level0 col0\" >Survived</th>        <th class=\"col_heading level0 col1\" >Pclass</th>        <th class=\"col_heading level0 col2\" >Age</th>        <th class=\"col_heading level0 col3\" >SibSp</th>        <th class=\"col_heading level0 col4\" >Parch</th>        <th class=\"col_heading level0 col5\" >Fare</th>        <th class=\"col_heading level0 col6\" >CabinFlag</th>    </tr></thead><tbody>\n",
       "                <tr>\n",
       "                        <th id=\"T_3c620_level0_row0\" class=\"row_heading level0 row0\" >Survived</th>\n",
       "                        <td id=\"T_3c620_row0_col0\" class=\"data row0 col0\" >1.000000</td>\n",
       "                        <td id=\"T_3c620_row0_col1\" class=\"data row0 col1\" >-0.289723</td>\n",
       "                        <td id=\"T_3c620_row0_col2\" class=\"data row0 col2\" >0.103895</td>\n",
       "                        <td id=\"T_3c620_row0_col3\" class=\"data row0 col3\" >-0.007587</td>\n",
       "                        <td id=\"T_3c620_row0_col4\" class=\"data row0 col4\" >0.023352</td>\n",
       "                        <td id=\"T_3c620_row0_col5\" class=\"data row0 col5\" >0.187534</td>\n",
       "                        <td id=\"T_3c620_row0_col6\" class=\"data row0 col6\" >-0.251554</td>\n",
       "            </tr>\n",
       "            <tr>\n",
       "                        <th id=\"T_3c620_level0_row1\" class=\"row_heading level0 row1\" >Pclass</th>\n",
       "                        <td id=\"T_3c620_row1_col0\" class=\"data row1 col0\" >-0.289723</td>\n",
       "                        <td id=\"T_3c620_row1_col1\" class=\"data row1 col1\" >1.000000</td>\n",
       "                        <td id=\"T_3c620_row1_col2\" class=\"data row1 col2\" >-0.259109</td>\n",
       "                        <td id=\"T_3c620_row1_col3\" class=\"data row1 col3\" >-0.051436</td>\n",
       "                        <td id=\"T_3c620_row1_col4\" class=\"data row1 col4\" >-0.041848</td>\n",
       "                        <td id=\"T_3c620_row1_col5\" class=\"data row1 col5\" >-0.417354</td>\n",
       "                        <td id=\"T_3c620_row1_col6\" class=\"data row1 col6\" >0.709274</td>\n",
       "            </tr>\n",
       "            <tr>\n",
       "                        <th id=\"T_3c620_level0_row2\" class=\"row_heading level0 row2\" >Age</th>\n",
       "                        <td id=\"T_3c620_row2_col0\" class=\"data row2 col0\" >0.103895</td>\n",
       "                        <td id=\"T_3c620_row2_col1\" class=\"data row2 col1\" >-0.259109</td>\n",
       "                        <td id=\"T_3c620_row2_col2\" class=\"data row2 col2\" >1.000000</td>\n",
       "                        <td id=\"T_3c620_row2_col3\" class=\"data row2 col3\" >-0.112459</td>\n",
       "                        <td id=\"T_3c620_row2_col4\" class=\"data row2 col4\" >-0.125535</td>\n",
       "                        <td id=\"T_3c620_row2_col5\" class=\"data row2 col5\" >0.109164</td>\n",
       "                        <td id=\"T_3c620_row2_col6\" class=\"data row2 col6\" >-0.233788</td>\n",
       "            </tr>\n",
       "            <tr>\n",
       "                        <th id=\"T_3c620_level0_row3\" class=\"row_heading level0 row3\" >SibSp</th>\n",
       "                        <td id=\"T_3c620_row3_col0\" class=\"data row3 col0\" >-0.007587</td>\n",
       "                        <td id=\"T_3c620_row3_col1\" class=\"data row3 col1\" >-0.051436</td>\n",
       "                        <td id=\"T_3c620_row3_col2\" class=\"data row3 col2\" >-0.112459</td>\n",
       "                        <td id=\"T_3c620_row3_col3\" class=\"data row3 col3\" >1.000000</td>\n",
       "                        <td id=\"T_3c620_row3_col4\" class=\"data row3 col4\" >0.213126</td>\n",
       "                        <td id=\"T_3c620_row3_col5\" class=\"data row3 col5\" >0.059358</td>\n",
       "                        <td id=\"T_3c620_row3_col6\" class=\"data row3 col6\" >-0.066946</td>\n",
       "            </tr>\n",
       "            <tr>\n",
       "                        <th id=\"T_3c620_level0_row4\" class=\"row_heading level0 row4\" >Parch</th>\n",
       "                        <td id=\"T_3c620_row4_col0\" class=\"data row4 col0\" >0.023352</td>\n",
       "                        <td id=\"T_3c620_row4_col1\" class=\"data row4 col1\" >-0.041848</td>\n",
       "                        <td id=\"T_3c620_row4_col2\" class=\"data row4 col2\" >-0.125535</td>\n",
       "                        <td id=\"T_3c620_row4_col3\" class=\"data row4 col3\" >0.213126</td>\n",
       "                        <td id=\"T_3c620_row4_col4\" class=\"data row4 col4\" >1.000000</td>\n",
       "                        <td id=\"T_3c620_row4_col5\" class=\"data row4 col5\" >0.061443</td>\n",
       "                        <td id=\"T_3c620_row4_col6\" class=\"data row4 col6\" >-0.076096</td>\n",
       "            </tr>\n",
       "            <tr>\n",
       "                        <th id=\"T_3c620_level0_row5\" class=\"row_heading level0 row5\" >Fare</th>\n",
       "                        <td id=\"T_3c620_row5_col0\" class=\"data row5 col0\" >0.187534</td>\n",
       "                        <td id=\"T_3c620_row5_col1\" class=\"data row5 col1\" >-0.417354</td>\n",
       "                        <td id=\"T_3c620_row5_col2\" class=\"data row5 col2\" >0.109164</td>\n",
       "                        <td id=\"T_3c620_row5_col3\" class=\"data row5 col3\" >0.059358</td>\n",
       "                        <td id=\"T_3c620_row5_col4\" class=\"data row5 col4\" >0.061443</td>\n",
       "                        <td id=\"T_3c620_row5_col5\" class=\"data row5 col5\" >1.000000</td>\n",
       "                        <td id=\"T_3c620_row5_col6\" class=\"data row5 col6\" >-0.464407</td>\n",
       "            </tr>\n",
       "            <tr>\n",
       "                        <th id=\"T_3c620_level0_row6\" class=\"row_heading level0 row6\" >CabinFlag</th>\n",
       "                        <td id=\"T_3c620_row6_col0\" class=\"data row6 col0\" >-0.251554</td>\n",
       "                        <td id=\"T_3c620_row6_col1\" class=\"data row6 col1\" >0.709274</td>\n",
       "                        <td id=\"T_3c620_row6_col2\" class=\"data row6 col2\" >-0.233788</td>\n",
       "                        <td id=\"T_3c620_row6_col3\" class=\"data row6 col3\" >-0.066946</td>\n",
       "                        <td id=\"T_3c620_row6_col4\" class=\"data row6 col4\" >-0.076096</td>\n",
       "                        <td id=\"T_3c620_row6_col5\" class=\"data row6 col5\" >-0.464407</td>\n",
       "                        <td id=\"T_3c620_row6_col6\" class=\"data row6 col6\" >1.000000</td>\n",
       "            </tr>\n",
       "    </tbody></table>"
      ],
      "text/plain": [
       "<pandas.io.formats.style.Styler at 0x7fef156ed1f0>"
      ]
     },
     "execution_count": 48,
     "metadata": {},
     "output_type": "execute_result"
    }
   ],
   "source": [
    "corr = train.corr()\n",
    "corr.style.background_gradient(cmap='coolwarm')"
   ]
  },
  {
   "cell_type": "code",
   "execution_count": null,
   "id": "af5d142d-9bf1-4a3a-8c7c-1fec933cbf06",
   "metadata": {},
   "outputs": [],
   "source": []
  }
 ],
 "metadata": {
  "kernelspec": {
   "display_name": "Python 3",
   "language": "python",
   "name": "python3"
  },
  "language_info": {
   "codemirror_mode": {
    "name": "ipython",
    "version": 3
   },
   "file_extension": ".py",
   "mimetype": "text/x-python",
   "name": "python",
   "nbconvert_exporter": "python",
   "pygments_lexer": "ipython3",
   "version": "3.9.0"
  }
 },
 "nbformat": 4,
 "nbformat_minor": 5
}
