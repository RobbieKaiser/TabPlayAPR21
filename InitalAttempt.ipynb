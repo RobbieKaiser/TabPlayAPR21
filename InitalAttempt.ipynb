{
 "cells": [
  {
   "cell_type": "code",
   "execution_count": null,
   "id": "c4ec7837-8f7c-47d8-90e3-2e7961444658",
   "metadata": {},
   "outputs": [],
   "source": [
    "import pandas as pd\n",
    "import matplotlib.pyplot as plt\n",
    "import numpy as np"
   ]
  },
  {
   "cell_type": "code",
   "execution_count": null,
   "id": "64b8f042-2bd7-4369-8cf3-2a6479b19061",
   "metadata": {},
   "outputs": [],
   "source": [
    "pwd"
   ]
  },
  {
   "cell_type": "code",
   "execution_count": null,
   "id": "a91ef837-87ca-4866-9005-007ef517f8ef",
   "metadata": {},
   "outputs": [],
   "source": [
    "test = pd.read_csv('Data/test.csv')\n",
    "#test.set_index('PassengerId', inplace = True)\n",
    "test.head()"
   ]
  },
  {
   "cell_type": "code",
   "execution_count": null,
   "id": "cdce912a-4914-40bb-9280-7ce48d5e3894",
   "metadata": {},
   "outputs": [],
   "source": [
    "train = pd.read_csv('Data/train.csv')\n",
    "train.set_index('PassengerId', inplace = True)\n",
    "train.head()"
   ]
  },
  {
   "cell_type": "markdown",
   "id": "24e8a42c-d065-47be-8021-255c104b11c8",
   "metadata": {},
   "source": [
    "## Explore Train Data\n",
    "\n",
    "Aim is to look into the train data-set to find out trends and distributions"
   ]
  },
  {
   "cell_type": "markdown",
   "id": "d8242f61-02c2-40fc-89b0-1b8b6a9cd756",
   "metadata": {},
   "source": [
    "### Survival Rate"
   ]
  },
  {
   "cell_type": "code",
   "execution_count": null,
   "id": "99d853f4-9d8e-4957-a21a-4b20977815dd",
   "metadata": {},
   "outputs": [],
   "source": [
    "#Look at survivial rate\n",
    "train['Survived'].value_counts()"
   ]
  },
  {
   "cell_type": "code",
   "execution_count": null,
   "id": "6607e2e7-d782-453f-a78b-d8935fd727bf",
   "metadata": {},
   "outputs": [],
   "source": [
    "sum(train['Survived'])/len(train['Survived'])\n",
    "#survival rate is 42%"
   ]
  },
  {
   "cell_type": "code",
   "execution_count": null,
   "id": "22365ebc-93c1-4beb-a291-f6e75afa9733",
   "metadata": {},
   "outputs": [],
   "source": [
    "#Suvival by class\n",
    "train.groupby('Pclass').apply(lambda x: sum(x['Survived'])/len(x))"
   ]
  },
  {
   "cell_type": "code",
   "execution_count": null,
   "id": "c56da863-9f53-43eb-b769-e8eefb00e9f8",
   "metadata": {},
   "outputs": [],
   "source": [
    "#Suvival by embarkment point\n",
    "train.groupby('Embarked').apply(lambda x: sum(x['Survived'])/len(x))\n",
    "\n",
    "#High rate in Southampton"
   ]
  },
  {
   "cell_type": "code",
   "execution_count": null,
   "id": "03f9a34c-21f1-4566-bb92-f086337c38a2",
   "metadata": {},
   "outputs": [],
   "source": [
    "train.groupby(['Embarked','Pclass']).apply(lambda x: len(x))\n",
    "\n",
    "#High southampton rate potentially caused by prevelance of third class pasengers"
   ]
  },
  {
   "cell_type": "code",
   "execution_count": null,
   "id": "43879285-9e71-4d9c-ad27-e597088c78f9",
   "metadata": {},
   "outputs": [],
   "source": [
    "train['Sex'].value_counts()"
   ]
  },
  {
   "cell_type": "code",
   "execution_count": null,
   "id": "c49ec825-ef59-47fd-8572-55ddb76ded47",
   "metadata": {},
   "outputs": [],
   "source": [
    "train.groupby('Sex').apply(lambda x: sum(x['Survived'])/len(x))"
   ]
  },
  {
   "cell_type": "code",
   "execution_count": null,
   "id": "354b153c-b704-495f-bc54-339307e1f1db",
   "metadata": {},
   "outputs": [],
   "source": [
    "train.groupby(['Pclass','Sex']).apply(lambda x: len(x))"
   ]
  },
  {
   "cell_type": "code",
   "execution_count": null,
   "id": "d5275120-b05f-46c6-9228-dbe0d5332ae6",
   "metadata": {},
   "outputs": [],
   "source": [
    "train.groupby('SibSp').apply(lambda x: sum(x['Survived'])/len(x))\n"
   ]
  },
  {
   "cell_type": "markdown",
   "id": "285b6224-ff4b-4d7c-a63e-ec7ff1b53ff3",
   "metadata": {},
   "source": [
    "## Correlation Plot"
   ]
  },
  {
   "cell_type": "code",
   "execution_count": null,
   "id": "9fff36ab-45af-404d-92d5-db46d73e1171",
   "metadata": {},
   "outputs": [],
   "source": [
    "#Built quick cabin flag to indicate whether they had a cabin or not, may expand to build a \"no cabin\", \"C Floor\", \"B Floor\"... feature\n",
    "train['CabinFlag'] = train['Cabin'].isna().astype('int')"
   ]
  },
  {
   "cell_type": "code",
   "execution_count": null,
   "id": "924a95a7-347e-40cf-bbf8-64dd76b44399",
   "metadata": {},
   "outputs": [],
   "source": [
    "plt.matshow(train.corr())\n",
    "plt.show()"
   ]
  },
  {
   "cell_type": "code",
   "execution_count": null,
   "id": "e536097c-eb48-4833-948b-4bf291838009",
   "metadata": {},
   "outputs": [],
   "source": [
    "corr = train.corr()\n",
    "corr.style.background_gradient(cmap='coolwarm')"
   ]
  },
  {
   "cell_type": "code",
   "execution_count": null,
   "id": "af5d142d-9bf1-4a3a-8c7c-1fec933cbf06",
   "metadata": {},
   "outputs": [],
   "source": [
    "train.head()"
   ]
  },
  {
   "cell_type": "markdown",
   "id": "d01f165d-387e-4f36-a6a6-f57087fd5770",
   "metadata": {},
   "source": [
    "## Perform Baskic feature engineering"
   ]
  },
  {
   "cell_type": "code",
   "execution_count": null,
   "id": "e2f30b26-d7ae-434d-971e-7cf3233e4f3d",
   "metadata": {},
   "outputs": [],
   "source": [
    "y = train['Survived']"
   ]
  },
  {
   "cell_type": "code",
   "execution_count": null,
   "id": "ec63b27e-6b23-4f77-815f-0b3bc77c6379",
   "metadata": {},
   "outputs": [],
   "source": [
    "#impute Embarked NA columns\n",
    "train['Embarked'].fillna('NA', inplace = True)"
   ]
  },
  {
   "cell_type": "code",
   "execution_count": null,
   "id": "5b0cf423-ca86-418d-8619-4dc5bc4212ef",
   "metadata": {},
   "outputs": [],
   "source": [
    "#impute Embarked NA columns\n",
    "train['Embarked'].fillna('NA', inplace = True)\n",
    "train['Pclass'] = train['Pclass'].astype('str')\n",
    "train['CabinFlag'] = train['CabinFlag'].astype('str')\n",
    "train['FamilySize'] = train['SibSp'] + train['Parch'] + 1"
   ]
  },
  {
   "cell_type": "code",
   "execution_count": null,
   "id": "326be3e5-fdb8-4130-8a41-c900c6b2ea8b",
   "metadata": {},
   "outputs": [],
   "source": [
    "train['CabinLt'] = train['Cabin'].str[0]\n",
    "train['CabinLt'].fillna('NA', inplace = True)\n",
    "train.head()"
   ]
  },
  {
   "cell_type": "code",
   "execution_count": null,
   "id": "cdf781f7-eba9-4439-a31c-dca302171938",
   "metadata": {},
   "outputs": [],
   "source": [
    "categoricals = ['Pclass', 'Sex', 'Embarked', 'CabinFlag', 'CabinLt']\n",
    "trainCat = pd.get_dummies(train[categoricals])\n",
    "trainCat.head()"
   ]
  },
  {
   "cell_type": "code",
   "execution_count": null,
   "id": "14f8a9da-14da-4c6b-890d-25072f73eb0d",
   "metadata": {},
   "outputs": [],
   "source": [
    "#need to imput fares and age, going to imput average per class, per embarkment point\n",
    "train['Fare'] = train.groupby(['Pclass','Embarked', 'Sex'])['Fare'].transform(lambda x: x.fillna(x.median()))\n",
    "train['Age'] = train.groupby(['Pclass','Embarked', 'Sex'])['Age'].transform(lambda x: x.fillna(x.median()))\n",
    "train.head()"
   ]
  },
  {
   "cell_type": "code",
   "execution_count": null,
   "id": "3a2b6c9a-646f-488d-8f72-fccc6abb70b7",
   "metadata": {},
   "outputs": [],
   "source": [
    "numericals = ['SibSp', 'Parch', 'Fare', 'Age', 'FamilySize']\n",
    "trainNum = train[numericals]\n",
    "trainNum.head()"
   ]
  },
  {
   "cell_type": "code",
   "execution_count": null,
   "id": "2d2819b8-cc30-4840-b7b6-a84d2b6d5651",
   "metadata": {},
   "outputs": [],
   "source": [
    "train['Embarked'].isna().value_counts()"
   ]
  },
  {
   "cell_type": "code",
   "execution_count": null,
   "id": "6b9d6e3d-45da-4e04-9465-cc8684abd138",
   "metadata": {},
   "outputs": [],
   "source": [
    "test['Age'].isna().value_counts()"
   ]
  },
  {
   "cell_type": "code",
   "execution_count": null,
   "id": "c0982210-e8b7-48a5-a678-5c11d742123a",
   "metadata": {},
   "outputs": [],
   "source": [
    "np.mean(test['Age'])"
   ]
  },
  {
   "cell_type": "code",
   "execution_count": null,
   "id": "8cf3ef51-d648-4825-baf1-792ef361970c",
   "metadata": {},
   "outputs": [],
   "source": [
    "np.mean(train['Age'])"
   ]
  },
  {
   "cell_type": "code",
   "execution_count": null,
   "id": "1b42475c-fcf5-4e1a-8c2a-0b5d5486ccb0",
   "metadata": {},
   "outputs": [],
   "source": [
    "X = trainCat\n"
   ]
  },
  {
   "cell_type": "code",
   "execution_count": null,
   "id": "9a73ea0c-e5b1-4270-8557-864ff2735e39",
   "metadata": {},
   "outputs": [],
   "source": [
    "X[numericals] = train[numericals]"
   ]
  },
  {
   "cell_type": "code",
   "execution_count": null,
   "id": "c2b47ef2-eb7c-4bf6-8484-47d0d2028fa1",
   "metadata": {},
   "outputs": [],
   "source": [
    "X.head()"
   ]
  },
  {
   "cell_type": "markdown",
   "id": "41ef9714-c8e4-4ccd-b296-c988b4651370",
   "metadata": {},
   "source": [
    "## Quick GBM model"
   ]
  },
  {
   "cell_type": "code",
   "execution_count": null,
   "id": "d650be93-d3a2-4012-bb0f-c894fdc53a4d",
   "metadata": {},
   "outputs": [],
   "source": [
    "from sklearn.ensemble import GradientBoostingClassifier\n",
    "from sklearn.model_selection import KFold\n",
    "from sklearn.metrics import accuracy_score\n"
   ]
  },
  {
   "cell_type": "code",
   "execution_count": null,
   "id": "afba9092-a308-4fe6-b9db-1f269ace59d1",
   "metadata": {},
   "outputs": [],
   "source": [
    "kf = KFold(n_splits=10)\n",
    "kf.get_n_splits(X)"
   ]
  },
  {
   "cell_type": "code",
   "execution_count": null,
   "id": "88611e23-bd59-4083-bda2-b7690c2a9c71",
   "metadata": {},
   "outputs": [],
   "source": [
    "kf"
   ]
  },
  {
   "cell_type": "code",
   "execution_count": null,
   "id": "30cee818-5bc4-45e2-81d0-a1e0db55c293",
   "metadata": {},
   "outputs": [],
   "source": [
    "gbm = GradientBoostingClassifier(n_estimators=100, max_depth=3, random_state=1, learning_rate = 0.1)\n",
    "#Best: 0.77914, using {'learning_rate': 0.1, 'max_depth': 3, 'n_estimators': 100}"
   ]
  },
  {
   "cell_type": "code",
   "execution_count": null,
   "id": "30db8d57-926a-4207-a7d4-851effcc5501",
   "metadata": {},
   "outputs": [],
   "source": [
    "accuracy_model = []"
   ]
  },
  {
   "cell_type": "code",
   "execution_count": null,
   "id": "f09df9df-145f-4202-beee-32f43eb65a5c",
   "metadata": {},
   "outputs": [],
   "source": [
    "X.isnull().values.any()"
   ]
  },
  {
   "cell_type": "code",
   "execution_count": null,
   "id": "5f3557f9-3a41-4006-bcf0-a85b754c0e86",
   "metadata": {},
   "outputs": [],
   "source": [
    "for train_index, test_index in kf.split(X):\n",
    "    # Split train-test\n",
    "    X_train, X_test = X.iloc[train_index], X.iloc[test_index]\n",
    "    y_train, y_test = y[train_index], y[test_index]\n",
    "    # Train the model\n",
    "    model = gbm.fit(X_train, y_train)\n",
    "    # Append to accuracy_model the accuracy of the model\n",
    "    accuracy_model.append(accuracy_score(y_test, model.predict(X_test), normalize=True)*100)"
   ]
  },
  {
   "cell_type": "code",
   "execution_count": null,
   "id": "1f4ea487-91f3-40f5-a48b-b3c9dae4ed13",
   "metadata": {},
   "outputs": [],
   "source": [
    "print(accuracy_model)"
   ]
  },
  {
   "cell_type": "code",
   "execution_count": null,
   "id": "5873a065-d28e-4bda-8b2d-97b579be09fd",
   "metadata": {},
   "outputs": [],
   "source": [
    "test['CabinFlag'] = test['Cabin'].isna().astype('int')"
   ]
  },
  {
   "cell_type": "code",
   "execution_count": null,
   "id": "cdbc781c-e917-4d4e-a683-dc97d7a86d1a",
   "metadata": {},
   "outputs": [],
   "source": [
    "#impute Embarked NA columns\n",
    "test['Embarked'].fillna('NA', inplace = True)\n",
    "test['Pclass'] = test['Pclass'].astype('str')\n",
    "test['CabinFlag'] = test['CabinFlag'].astype('str')\n",
    "test['FamilySize'] = test['SibSp'] + test['Parch'] + 1"
   ]
  },
  {
   "cell_type": "code",
   "execution_count": null,
   "id": "259a14d8-5207-4117-be27-f781b517608c",
   "metadata": {},
   "outputs": [],
   "source": [
    "test['CabinLt'] = test['Cabin'].str[0]\n",
    "test['CabinLt'].fillna('NA', inplace = True)"
   ]
  },
  {
   "cell_type": "code",
   "execution_count": null,
   "id": "57d80079-dfd7-48c1-9015-ed7e28db87e8",
   "metadata": {},
   "outputs": [],
   "source": [
    "#need to imput fares and age, going to imput average per class, per embarkment point\n",
    "test['Fare'] = test.groupby(['Pclass','Embarked', 'Sex'])['Fare'].transform(lambda x: x.fillna(x.median()))\n",
    "test['Age'] = test.groupby(['Pclass','Embarked', 'Sex'])['Age'].transform(lambda x: x.fillna(x.median()))\n",
    "test.head()"
   ]
  },
  {
   "cell_type": "code",
   "execution_count": null,
   "id": "461f8227-007b-486e-b0ac-1b5d943204ec",
   "metadata": {},
   "outputs": [],
   "source": [
    "testCat = pd.get_dummies(test[categoricals])\n",
    "testCat.head()"
   ]
  },
  {
   "cell_type": "code",
   "execution_count": null,
   "id": "742d9aaf-76d6-49cf-aa12-26de800971b5",
   "metadata": {},
   "outputs": [],
   "source": [
    "XTest = testCat\n",
    "XTest[numericals] = test[numericals]\n",
    "XTest.head()"
   ]
  },
  {
   "cell_type": "code",
   "execution_count": null,
   "id": "01826524-f701-4989-8eaf-8152db7f458a",
   "metadata": {},
   "outputs": [],
   "source": [
    "test.index"
   ]
  },
  {
   "cell_type": "code",
   "execution_count": null,
   "id": "5eea42ab-2d0c-4120-a4df-d33f7d8a74b8",
   "metadata": {},
   "outputs": [],
   "source": []
  },
  {
   "cell_type": "code",
   "execution_count": null,
   "id": "df5ce28c-4d4a-4c7b-91d6-9bc61f9d5253",
   "metadata": {},
   "outputs": [],
   "source": [
    "predictions = model.predict(XTest)\n"
   ]
  },
  {
   "cell_type": "code",
   "execution_count": null,
   "id": "f078cca9-2711-4988-833e-bf8ad8fef293",
   "metadata": {},
   "outputs": [],
   "source": [
    "test.index.shape"
   ]
  },
  {
   "cell_type": "code",
   "execution_count": null,
   "id": "33f0d31d-d603-4382-931f-b2a0a2b29edb",
   "metadata": {},
   "outputs": [],
   "source": [
    "predictions.shape"
   ]
  },
  {
   "cell_type": "code",
   "execution_count": null,
   "id": "815928a9-9d34-4996-a7ce-a94d78f2a44f",
   "metadata": {},
   "outputs": [],
   "source": [
    "predictions"
   ]
  },
  {
   "cell_type": "code",
   "execution_count": null,
   "id": "f2d6993e-8cda-4962-ae3f-a6d45a154e21",
   "metadata": {},
   "outputs": [],
   "source": [
    "submission = pd.DataFrame()\n",
    "submission['PassengerId'] = test['PassengerId']\n",
    "submission['Survived'] = pd.DataFrame(predictions)"
   ]
  },
  {
   "cell_type": "code",
   "execution_count": null,
   "id": "4cfac377-af46-4d63-9a6a-cca22856b8ca",
   "metadata": {},
   "outputs": [],
   "source": [
    "test.shape"
   ]
  },
  {
   "cell_type": "code",
   "execution_count": null,
   "id": "2a018577-09ac-47e1-b06b-3a227123eca5",
   "metadata": {},
   "outputs": [],
   "source": [
    "submission.to_csv('Data/submission.csv', index=False)"
   ]
  },
  {
   "cell_type": "code",
   "execution_count": null,
   "id": "cb72fefa-566a-46c7-8b5b-5691b8dc4da4",
   "metadata": {},
   "outputs": [],
   "source": [
    "submission['Survived'].value_counts()"
   ]
  },
  {
   "cell_type": "code",
   "execution_count": null,
   "id": "7b7bf08b-4301-4177-9e4a-0193c9511eb1",
   "metadata": {},
   "outputs": [],
   "source": []
  },
  {
   "cell_type": "code",
   "execution_count": null,
   "id": "630acdb9-a239-41f7-9af7-dce15d12a2aa",
   "metadata": {},
   "outputs": [],
   "source": []
  },
  {
   "cell_type": "markdown",
   "id": "317315e9-365d-40b1-81d7-a9f781aef6a9",
   "metadata": {},
   "source": [
    "## Trial grid search"
   ]
  },
  {
   "cell_type": "code",
   "execution_count": null,
   "id": "968248dc-e893-41c9-9279-fb435bed5757",
   "metadata": {},
   "outputs": [],
   "source": [
    "from sklearn.model_selection import GridSearchCV, KFold"
   ]
  },
  {
   "cell_type": "code",
   "execution_count": null,
   "id": "6343d6be-d3d0-43a0-a718-25d6a56fce93",
   "metadata": {},
   "outputs": [],
   "source": [
    "gbm = GradientBoostingClassifier()"
   ]
  },
  {
   "cell_type": "code",
   "execution_count": null,
   "id": "8f8fc17d-5ab9-4a55-868f-2ee99ac2187c",
   "metadata": {},
   "outputs": [],
   "source": [
    "gridparams = {'learning_rate':[0.1,0.3], 'n_estimators': [100,300,1000], 'max_depth':[3,5,7]}\n",
    "#Best: 0.77914, using {'learning_rate': 0.1, 'max_depth': 3, 'n_estimators': 100}"
   ]
  },
  {
   "cell_type": "code",
   "execution_count": null,
   "id": "9e89453c-de1c-48f7-a621-635d704b5958",
   "metadata": {},
   "outputs": [],
   "source": [
    "seed =1 "
   ]
  },
  {
   "cell_type": "code",
   "execution_count": null,
   "id": "c95dbcdc-2eae-43da-9742-95e7e6221dfb",
   "metadata": {},
   "outputs": [],
   "source": [
    "#grid = GridSearchCV(estimator=gbm, param_grid=gridparams,\n",
    "#                    cv=KFold(n_splits=10), verbose=10)\n",
    "#\n",
    "#grid_results = grid.fit(X, y)\n",
    "#\n",
    "## Summarize the results in a readable format\n",
    "#print(\"Best: {0}, using {1}\".format(grid_results.best_score_, grid_results.best_params_))"
   ]
  },
  {
   "cell_type": "code",
   "execution_count": null,
   "id": "fb1ce0f0-7f61-4f19-b6a2-a9235532d308",
   "metadata": {},
   "outputs": [],
   "source": []
  }
 ],
 "metadata": {
  "kernelspec": {
   "display_name": "Python 3",
   "language": "python",
   "name": "python3"
  },
  "language_info": {
   "codemirror_mode": {
    "name": "ipython",
    "version": 3
   },
   "file_extension": ".py",
   "mimetype": "text/x-python",
   "name": "python",
   "nbconvert_exporter": "python",
   "pygments_lexer": "ipython3",
   "version": "3.9.0"
  }
 },
 "nbformat": 4,
 "nbformat_minor": 5
}
